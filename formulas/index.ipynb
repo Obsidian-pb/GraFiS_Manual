{
  "cells": [
    {
      "cell_type": "markdown",
      "metadata": {},
      "source": [
        "# Предисловие {.unnumbered}\n",
        "\n",
        "Это руководство предназначено для сотрудников пожарной охраны проводящих расчеты с использованием [АИГС ГраФиС-Тактик](https://www.graphicalfiresets.ru/). В книге описывается процесс работы с таким **инструментом** ГраФиС как формулы.\n",
        "\n",
        "![Подпись рисунка](cover.png){#fig-ttt}\n"
      ],
      "id": "61aa783e"
    },
    {
      "cell_type": "code",
      "metadata": {},
      "source": [
        "#| label: fig-polar\n",
        "#| fig-cap: A line plot on a polar axis\n",
        "\n",
        "import numpy as np\n",
        "import matplotlib.pyplot as plt\n",
        "\n",
        "r = np.arange(0, 2, 0.01)\n",
        "theta = 2 * np.pi * r\n",
        "fig, ax = plt.subplots(\n",
        "  subplot_kw = {'projection': 'polar'} \n",
        ")\n",
        "ax.plot(theta, r)\n",
        "ax.set_rticks([0.5, 1, 1.5, 2])\n",
        "ax.grid(True)\n",
        "plt.show()"
      ],
      "id": "fig-polar",
      "execution_count": null,
      "outputs": []
    }
  ],
  "metadata": {
    "kernelspec": {
      "display_name": "Python 3",
      "language": "python",
      "name": "python3"
    }
  },
  "nbformat": 4,
  "nbformat_minor": 5
}